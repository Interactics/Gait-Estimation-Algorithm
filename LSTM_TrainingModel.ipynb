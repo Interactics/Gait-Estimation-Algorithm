{
  "nbformat": 4,
  "nbformat_minor": 0,
  "metadata": {
    "colab": {
      "name": "LSTM_TrainingModel.ipynb",
      "provenance": [],
      "collapsed_sections": [],
      "toc_visible": true,
      "authorship_tag": "ABX9TyNmQ/ouxSrc9o5YI1GJ6UEE",
      "include_colab_link": true
    },
    "kernelspec": {
      "name": "python3",
      "display_name": "Python 3"
    },
    "accelerator": "TPU"
  },
  "cells": [
    {
      "cell_type": "markdown",
      "metadata": {
        "id": "view-in-github",
        "colab_type": "text"
      },
      "source": [
        "<a href=\"https://colab.research.google.com/github/Interactics/Gait-Estimation-Algorithm/blob/master/LSTM_TrainingModel.ipynb\" target=\"_parent\"><img src=\"https://colab.research.google.com/assets/colab-badge.svg\" alt=\"Open In Colab\"/></a>"
      ]
    },
    {
      "cell_type": "markdown",
      "metadata": {
        "id": "UZ1_bLFGULsT",
        "colab_type": "text"
      },
      "source": [
        "## 모델 성능 향상시키기\n",
        "### 만약 모델의 성능을 향상시키고 싶다면 여러 시도를 해볼 수 있습니다.\n",
        "\n",
        "1. LSTM의 층을 더 쌓기\n",
        "\n",
        "2. LSTM의 뉴런 수 바꿔보기\n",
        "\n",
        "3. batch_size 바꿔보기\n",
        "\n",
        "4. input_shape 바꿔보기\n",
        "\n",
        "5. 스케일러 바꿔보기\n",
        "\n",
        "6. dropout 사용하기(그러나 시계열에서 dropout을 사용해도 되는지는 잘 모르겠네요)\n",
        "\n",
        "7. LSTM 대신 GRU 사용해보기\n",
        "\n",
        "참고 : https://ebbnflow.tistory.com/135\n",
        "\n",
        "참고 : https://qwerty1434.github.io/%EB%8B%A4%EC%A4%91%EB%B3%80%EC%88%98%EC%9D%98-%ED%83%80%EC%9E%84%EC%8B%9C%EB%A6%AC%EC%A6%88-LSTM%EC%97%B0%EC%8A%B5 \n"
      ]
    },
    {
      "cell_type": "code",
      "metadata": {
        "id": "OJQOEGuo5GZA",
        "colab_type": "code",
        "outputId": "2287f331-e2fa-4f56-bb0e-c104dceaa2a8",
        "colab": {
          "base_uri": "https://localhost:8080/",
          "height": 35
        }
      },
      "source": [
        "from tensorflow.contrib import rnn\n",
        "import pandas as pd\n",
        "import numpy as np\n",
        "import matplotlib.pyplot as plt\n",
        "from google.colab import drive\n",
        "drive.mount('/content/drive')\n",
        "\n",
        "#Importing DATA\n",
        "\n",
        "#Training data preprocessing\n"
      ],
      "execution_count": 178,
      "outputs": [
        {
          "output_type": "stream",
          "text": [
            "Drive already mounted at /content/drive; to attempt to forcibly remount, call drive.mount(\"/content/drive\", force_remount=True).\n"
          ],
          "name": "stdout"
        }
      ]
    },
    {
      "cell_type": "markdown",
      "metadata": {
        "id": "kitufulUH-fu",
        "colab_type": "text"
      },
      "source": [
        "# 데이터 입력\n"
      ]
    },
    {
      "cell_type": "code",
      "metadata": {
        "id": "2v5X_8okMofo",
        "colab_type": "code",
        "colab": {}
      },
      "source": [
        "rawData = pd.read_csv('0305WS2236origininform.csv', index_col = False)\n",
        "rawData_X_train = trainData[['theta_leftknee', 'theta_shin_vs_ground', 'velocity_knee_left']]\n",
        "rawData_y_train = trainData[['velocity_human']]"
      ],
      "execution_count": 0,
      "outputs": []
    },
    {
      "cell_type": "markdown",
      "metadata": {
        "id": "7gZQgrw3bYcU",
        "colab_type": "text"
      },
      "source": [
        "# 데이터 스케일링\n",
        "## - MinMax 스케일링\n"
      ]
    },
    {
      "cell_type": "code",
      "metadata": {
        "id": "rpfly_S_a0G4",
        "colab_type": "code",
        "colab": {}
      },
      "source": [
        "###data preprocessing\n",
        "from sklearn.preprocessing import StandardScaler\n",
        "from sklearn.preprocessing import MinMaxScaler\n",
        "\n",
        "##scaling\n",
        "### Data TEST\n",
        "sc_x = MinMaxScaler(feature_range=(0, 1))\n",
        "sc_y = MinMaxScaler(feature_range=(0, 1))\n",
        "\n",
        "X_mM_training = sc_x.fit_transform(rawData_X_train)\n",
        "y_mM_training = sc_y.fit_transform(rawData_y_train)\n",
        "\n",
        "# ###Test\n",
        "# X_std_test = sc_x.transform(X_test)\n",
        "# y_std_test = sc_y.transform(y_test[:, np.newaxis]).flatten()"
      ],
      "execution_count": 0,
      "outputs": []
    },
    {
      "cell_type": "markdown",
      "metadata": {
        "id": "nkvOBgY_anxC",
        "colab_type": "text"
      },
      "source": [
        "# 시퀀스 데이터로 변환하기\n",
        "## 타임 시리즈로 변환하도록 하는 함수.\n",
        "t-(n_in)부터 t+(n_out)까지로 데이터를 변환해줌.\n",
        " "
      ]
    },
    {
      "cell_type": "code",
      "metadata": {
        "id": "zSj6S1HValHl",
        "colab_type": "code",
        "colab": {}
      },
      "source": [
        "from pandas import DataFrame\n",
        "\n",
        "def series_to_supervised(data, n_in=1, n_out=1, dropnan=True):\n",
        "  n_vars = 1 if type(data) is list else data.shape[1]\n",
        "  df = DataFrame(data)\n",
        "  cols, names = list(), list()\n",
        "  # input sequence (t-n, ... t-1)\n",
        "  for i in range(n_in, 0, -1):\n",
        "      cols.append(df.shift(i))\n",
        "      names += [('var%d(t-%d)' % (j+1, i)) for j in range(n_vars)]\n",
        "  # forecast sequence (t, t+1, ... t+n)\n",
        "  for i in range(0, n_out):\n",
        "      cols.append(df.shift(-i))\n",
        "      if i == 0:\n",
        "          names += [('var%d(t)' % (j+1)) for j in range(n_vars)]\n",
        "      else:\n",
        "          names += [('var%d(t+%d)' % (j+1, i)) for j in range(n_vars)]\n",
        "  # put it all together\n",
        "  agg = pd.concat(cols, axis=1)\n",
        "  agg.columns = names\n",
        "  # drop rows with NaN values\n",
        "  if dropnan:\n",
        "      agg.dropna(inplace=True)\n",
        "  return agg"
      ],
      "execution_count": 0,
      "outputs": []
    },
    {
      "cell_type": "markdown",
      "metadata": {
        "id": "7ogzV3AfJecc",
        "colab_type": "text"
      },
      "source": [
        "# 시퀀스 시리즈에 맞는 데이터형태로 변화"
      ]
    },
    {
      "cell_type": "code",
      "metadata": {
        "id": "S3AHLlzeatQ6",
        "colab_type": "code",
        "colab": {}
      },
      "source": [
        "reframed_X = series_to_supervised(X_mM_training, 3, 3) #t-1시점,t시점 데이터를 한 행으로 둔다\n",
        "values = reframed_X.values #np.array화 \n",
        "data_y = pd.DataFrame(scaledY).shift(-5).dropna().values #y 데이터 이동시킨 후 NaN 제거"
      ],
      "execution_count": 0,
      "outputs": []
    },
    {
      "cell_type": "markdown",
      "metadata": {
        "id": "_hTeUJ75JWbc",
        "colab_type": "text"
      },
      "source": [
        "# 트레이닝 데이터, 테스트 데이터 분할"
      ]
    },
    {
      "cell_type": "code",
      "metadata": {
        "id": "Zz8CLaVGJVeF",
        "colab_type": "code",
        "colab": {}
      },
      "source": [
        "####Training\n",
        "X_train = values[:900, :]\n",
        "y_train= data_y[:900]\n",
        "\n",
        "####Test\n",
        "X_test = values[900:1000, :]\n",
        "y_test = data_y[900:1000]"
      ],
      "execution_count": 0,
      "outputs": []
    },
    {
      "cell_type": "markdown",
      "metadata": {
        "id": "QjkUN5p1Jo6m",
        "colab_type": "text"
      },
      "source": [
        "# 학습 모델 설정"
      ]
    },
    {
      "cell_type": "code",
      "metadata": {
        "id": "qJf6clmQf4IG",
        "colab_type": "code",
        "colab": {
          "base_uri": "https://localhost:8080/",
          "height": 233
        },
        "outputId": "c521ed4d-b4f9-42b6-aba4-9dc19e39c3a5"
      },
      "source": [
        "from keras.layers import LSTM \n",
        "from keras.models import Sequential \n",
        "from keras.layers import Dense \n",
        "from keras.layers import Flatten\n",
        "import keras.backend as K \n",
        "from keras.callbacks import EarlyStopping\n",
        "\n",
        "#model's HyperParameter setting\n",
        "Unit = 50\n",
        "timesteps = seq_length = 30\n",
        "data_dim = 3\n",
        "hidden_dim = 100\n",
        "output_dim = 1 \n",
        "learing_rate = 0.0005\n",
        "iterations = 50_000\n",
        "Batch = 64\n",
        "Epochs = 500\n",
        "\n",
        "# X데이터 차원 변환\n",
        "X_train_t = X_train.reshape(X_train.shape[0], X_train.shape[1], 1)\n",
        "X_test_t = X_test.reshape((X_test.shape[0], X_test.shape[1], 1))\n",
        "\n",
        "#모델 설정\n",
        "K.clear_session()\n",
        "model = Sequential() # Sequeatial Model \n",
        "model.add(LSTM(Unit, input_shape=(X_train_t.shape[1], X_train_t.shape[2]))) # (timestep, feature) \n",
        "model.add(Dense(1)) # output = 1 \n",
        "model.compile(loss='mean_squared_error', optimizer='adam') #Regression Model에서는 민스퀘어 에러를 loss로 사용하자.\n",
        "model.summary()"
      ],
      "execution_count": 192,
      "outputs": [
        {
          "output_type": "stream",
          "text": [
            "Model: \"sequential_1\"\n",
            "_________________________________________________________________\n",
            "Layer (type)                 Output Shape              Param #   \n",
            "=================================================================\n",
            "lstm_1 (LSTM)                (None, 50)                10400     \n",
            "_________________________________________________________________\n",
            "dense_1 (Dense)              (None, 1)                 51        \n",
            "=================================================================\n",
            "Total params: 10,451\n",
            "Trainable params: 10,451\n",
            "Non-trainable params: 0\n",
            "_________________________________________________________________\n"
          ],
          "name": "stdout"
        }
      ]
    },
    {
      "cell_type": "markdown",
      "metadata": {
        "id": "GYq5hnOlMsvR",
        "colab_type": "text"
      },
      "source": [
        "#모델 트레이닝"
      ]
    },
    {
      "cell_type": "code",
      "metadata": {
        "id": "ZyPywrawf6rv",
        "colab_type": "code",
        "colab": {}
      },
      "source": [
        "history = model.fit(X_train_t, y_train, epochs=100, batch_size=Batch, verbose=2, use_multiprocessing=False, validation_data=(X_test, y_test) )"
      ],
      "execution_count": 0,
      "outputs": []
    },
    {
      "cell_type": "markdown",
      "metadata": {
        "id": "kST2KrWmMuYw",
        "colab_type": "text"
      },
      "source": [
        "# 모델 평가"
      ]
    },
    {
      "cell_type": "code",
      "metadata": {
        "id": "9DsgicuDf8dM",
        "colab_type": "code",
        "colab": {
          "base_uri": "https://localhost:8080/",
          "height": 445
        },
        "outputId": "d79a2108-da11-456d-939e-94e217ec97fd"
      },
      "source": [
        "y_pred = model.predict(X_train_t)\n",
        "y_pred_t = model.predict(X_test_t)\n",
        "\n",
        "## model evaluation\n",
        "from sklearn.metrics import mean_squared_error\n",
        "from sklearn.metrics import r2_score\n",
        "from sklearn.metrics import mean_absolute_error\n",
        "print('---------Training---------')\n",
        "\n",
        "print('Training MSE : %.3f' %(mean_squared_error(y_train, y_pred)))\n",
        "print('Training R_2score : %.3f' %(r2_score(y_train, y_pred)))\n",
        "print('Training MAE : %.3f' %(mean_absolute_error(y_train, y_pred)))\n",
        "\n",
        "print('\\n\\n-----------Test-----------')\n",
        "\n",
        "print('Test MSE : %.3f' %(mean_squared_error(y_test, y_pred_t )))\n",
        "print('Test R_2score : %.3f' %(r2_score(y_test, y_pred_t )))\n",
        "print('Test MAE : %.3f' %(mean_absolute_error(y_test, y_pred_t)))\n",
        "\n",
        "plt.scatter(y_train, y_pred, c='blue')\n",
        "plt.scatter(y_test, y_pred_t, c= 'red')\n",
        "plt.show()"
      ],
      "execution_count": 201,
      "outputs": [
        {
          "output_type": "stream",
          "text": [
            "---------Training---------\n",
            "Training MSE : 0.039\n",
            "Training R_2score : -2.107\n",
            "Training MAE : 0.165\n",
            "\n",
            "\n",
            "-----------Test-----------\n",
            "Test MSE : 0.080\n",
            "Test R_2score : -9.999\n",
            "Test MAE : 0.271\n"
          ],
          "name": "stdout"
        },
        {
          "output_type": "display_data",
          "data": {
            "image/png": "[encoded data removed]",
            "text/plain": [
              "<Figure size 432x288 with 1 Axes>"
            ]
          },
          "metadata": {
            "tags": []
          }
        }
      ]
    },
    {
      "cell_type": "code",
      "metadata": {
        "id": "y0wjMQSyh289",
        "colab_type": "code",
        "colab": {
          "base_uri": "https://localhost:8080/",
          "height": 269
        },
        "outputId": "95ff0fbb-ce19-49d5-a413-063e8506564d"
      },
      "source": [
        "import matplotlib.pyplot as plt\n",
        "plt.plot(history.history['loss'], label='train')\n",
        "plt.plot(history.history['val_loss'], label='test')\n",
        "\n",
        "plt.legend()\n",
        "plt.show()"
      ],
      "execution_count": 167,
      "outputs": [
        {
          "output_type": "display_data",
          "data": {
            "image/png": "[encoded data removed]",
            "text/plain": [
              "<Figure size 432x288 with 1 Axes>"
            ]
          },
          "metadata": {
            "tags": []
          }
        }
      ]
    },
    {
      "cell_type": "markdown",
      "metadata": {
        "id": "Ws31LP3-kiT3",
        "colab_type": "text"
      },
      "source": [
        "## 모델 평가"
      ]
    },
    {
      "cell_type": "code",
      "metadata": {
        "id": "aEkR8mHZkhqX",
        "colab_type": "code",
        "colab": {}
      },
      "source": [
        "# make a prediction\n",
        "yhat = model.predict(X_test)\n",
        "\n",
        "# invert scaling for forecast\n",
        "inv_yhat = MmY.inverse_transform(yhat)\n",
        "\n",
        "# invert scaling for actual\n",
        "y_test = testY.reshape((len(y_test), 1))\n",
        "inv_y = MmY.inverse_transform(y_test)\n",
        "\n",
        "# calculate RMSE\n",
        "rmse1 = np.sqrt(mean_squared_error(yhat, y_test))\n",
        "rmse2 = np.sqrt(mean_squared_error(inv_y, inv_yhat))"
      ],
      "execution_count": 0,
      "outputs": []
    },
    {
      "cell_type": "code",
      "metadata": {
        "id": "-lvWf2FdnNyK",
        "colab_type": "code",
        "colab": {
          "base_uri": "https://localhost:8080/",
          "height": 125
        },
        "outputId": "88d87b18-fe9f-41f4-ea80-23633d6334d6"
      },
      "source": [
        "print('===모델 평가===')\n",
        "print('MinMax 스케일링 상태의 RMSE:\\n', rmse1)\n",
        "print('\\n실제 추정 상태의 RMSE:\\n', rmse2)"
      ],
      "execution_count": 198,
      "outputs": [
        {
          "output_type": "stream",
          "text": [
            "===모델 평가===\n",
            "MinMax 스케일링 상태의 RMSE:\n",
            " 0.1278443449871407\n",
            "\n",
            "실제 추정 상태의 RMSE:\n",
            " 0.8346907100804869\n"
          ],
          "name": "stdout"
        }
      ]
    },
    {
      "cell_type": "code",
      "metadata": {
        "id": "m54Ffi0Fnizh",
        "colab_type": "code",
        "colab": {
          "base_uri": "https://localhost:8080/",
          "height": 265
        },
        "outputId": "38b0bb1a-b263-486b-cea2-793257f00547"
      },
      "source": [
        "import matplotlib.pyplot as plt\n",
        "plt.plot(inv_yhat, label='predict')\n",
        "plt.plot(inv_y, label='test')\n",
        "\n",
        "plt.legend()\n",
        "plt.show()"
      ],
      "execution_count": 199,
      "outputs": [
        {
          "output_type": "display_data",
          "data": {
            "image/png": "[encoded data removed]",
            "text/plain": [
              "<Figure size 432x288 with 1 Axes>"
            ]
          },
          "metadata": {
            "tags": []
          }
        }
      ]
    },
    {
      "cell_type": "code",
      "metadata": {
        "id": "J_3uw2baMWY9",
        "colab_type": "code",
        "colab": {}
      },
      "source": [
        ""
      ],
      "execution_count": 0,
      "outputs": []
    }
  ]
}